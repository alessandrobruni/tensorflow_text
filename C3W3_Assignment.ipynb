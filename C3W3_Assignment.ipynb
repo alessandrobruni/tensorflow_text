{
  "cells": [
    {
      "cell_type": "markdown",
      "metadata": {
        "id": "view-in-github",
        "colab_type": "text"
      },
      "source": [
        "<a href=\"https://colab.research.google.com/github/alessandrobruni/tensorflow_text/blob/main/C3W3_Assignment.ipynb\" target=\"_parent\"><img src=\"https://colab.research.google.com/assets/colab-badge.svg\" alt=\"Open In Colab\"/></a>"
      ]
    },
    {
      "cell_type": "markdown",
      "id": "printable-split",
      "metadata": {
        "id": "printable-split"
      },
      "source": [
        "\n",
        "# Week 3: Exploring Overfitting in NLP\n",
        "\n",
        "Welcome to this assignment! During this week you saw different ways to handle sequence-like data. You saw how some Keras' layers such as `GRU`, `Conv` and `LSTM` can be used to tackle problems in this space. Now you will put this knowledge into practice by creating a model architecture that does not overfit.\n",
        "\n",
        "For this assignment you will be using a variation of the [Sentiment140 dataset](http://help.sentiment140.com/home), which contains 1.6 million tweets alongside their respective sentiment (0 for negative and 4 for positive).\n",
        "\n",
        "You will also need to create the helper functions very similar to the ones you coded in previous assignments pre-process data and to tokenize sentences. However the objective of the assignment is to find a model architecture that will not overfit.\n",
        "\n",
        "Let's get started!"
      ]
    },
    {
      "cell_type": "code",
      "execution_count": null,
      "id": "greater-synthesis",
      "metadata": {
        "id": "greater-synthesis",
        "tags": [
          "graded"
        ]
      },
      "outputs": [],
      "source": [
        "import csv\n",
        "import random\n",
        "import pickle\n",
        "import numpy as np\n",
        "import tensorflow as tf\n",
        "from tensorflow.keras.preprocessing.text import Tokenizer\n",
        "from tensorflow.keras.preprocessing.sequence import pad_sequences\n",
        "import matplotlib.pyplot as plt\n",
        "from scipy.stats import linregress"
      ]
    },
    {
      "cell_type": "markdown",
      "id": "nutritional-yield",
      "metadata": {
        "id": "nutritional-yield"
      },
      "source": [
        "## Defining some useful global variables\n",
        "\n",
        "Next you will define some global variables that will be used throughout the assignment.\n",
        "\n",
        "- `EMBEDDING_DIM`: Dimension of the dense embedding, will be used in the embedding layer of the model. Defaults to 100.\n",
        "\n",
        "\n",
        "- `MAXLEN`: Maximum length of all sequences. Defaults to 16.\n",
        "\n",
        "\n",
        "- `TRUNCATING`: Truncating strategy (truncate either before or after each sequence.). Defaults to 'post'.\n",
        "\n",
        "\n",
        "- `PADDING`: Padding strategy (pad either before or after each sequence.). Defaults to 'post'.\n",
        "\n",
        "\n",
        "- `OOV_TOKEN`: Token to replace out-of-vocabulary words during text_to_sequence calls. Defaults to \\\"\\\\<OOV>\\\".\n",
        "    \n",
        "    \n",
        "- `MAX_EXAMPLES`: Max number of examples to use. Defaults to 160000 (10% of the original number of examples)\n",
        "    \n",
        "    \n",
        "- `TRAINING_SPLIT`: Proportion of data used for training. Defaults to 0.9\n",
        "    \n",
        "    \n",
        "**For now leave them unchanged but after submitting your assignment for grading you are encouraged to come back here and play with these parameters to see the impact they have in the classification process.**"
      ]
    },
    {
      "cell_type": "code",
      "execution_count": null,
      "id": "occasional-penalty",
      "metadata": {
        "tags": [
          "graded"
        ],
        "id": "occasional-penalty"
      },
      "outputs": [],
      "source": [
        "EMBEDDING_DIM = 100\n",
        "MAXLEN = 16\n",
        "TRUNCATING = 'post'\n",
        "PADDING = 'post'\n",
        "OOV_TOKEN = \"<OOV>\"\n",
        "MAX_EXAMPLES = 160000\n",
        "TRAINING_SPLIT = 0.9"
      ]
    },
    {
      "cell_type": "markdown",
      "id": "applied-rubber",
      "metadata": {
        "id": "applied-rubber"
      },
      "source": [
        "## Explore the dataset\n",
        "\n",
        "The dataset is provided in a csv file. \n",
        "\n",
        "Each row of this file contains the following values separated by commas:\n",
        "\n",
        "- target: the polarity of the tweet (0 = negative, 4 = positive)\n",
        "\n",
        "- ids: The id of the tweet\n",
        "\n",
        "- date: the date of the tweet\n",
        "\n",
        "- flag: The query. If there is no query, then this value is NO_QUERY.\n",
        "\n",
        "- user: the user that tweeted\n",
        "\n",
        "- text: the text of the tweet\n",
        "\n",
        "\n",
        "Take a look at the first two examples:"
      ]
    },
    {
      "cell_type": "code",
      "execution_count": null,
      "id": "critical-emission",
      "metadata": {
        "tags": [
          "graded"
        ],
        "id": "critical-emission",
        "outputId": "b18aa057-edf1-4284-b189-7d994da04ba9"
      },
      "outputs": [
        {
          "name": "stdout",
          "output_type": "stream",
          "text": [
            "First data point looks like this:\n",
            "\n",
            "\"0\",\"1467810369\",\"Mon Apr 06 22:19:45 PDT 2009\",\"NO_QUERY\",\"_TheSpecialOne_\",\"@switchfoot http://twitpic.com/2y1zl - Awww, that's a bummer.  You shoulda got David Carr of Third Day to do it. ;D\"\n",
            "\n",
            "Second data point looks like this:\n",
            "\n",
            "\"0\",\"1467810672\",\"Mon Apr 06 22:19:49 PDT 2009\",\"NO_QUERY\",\"scotthamilton\",\"is upset that he can't update his Facebook by texting it... and might cry as a result  School today also. Blah!\"\n",
            "\n"
          ]
        }
      ],
      "source": [
        "SENTIMENT_CSV = \"./data/training_cleaned.csv\"\n",
        "\n",
        "with open(SENTIMENT_CSV, 'r') as csvfile:\n",
        "    print(f\"First data point looks like this:\\n\\n{csvfile.readline()}\")\n",
        "    print(f\"Second data point looks like this:\\n\\n{csvfile.readline()}\")"
      ]
    },
    {
      "cell_type": "markdown",
      "id": "incoming-success",
      "metadata": {
        "id": "incoming-success"
      },
      "source": [
        "**Notice that this file does not have a header so you won't need to skip the first row when parsing the file.**\n",
        "\n",
        "For the task at hand you will only need the information of the target and the text, which are the first and last element of each row. "
      ]
    },
    {
      "cell_type": "markdown",
      "id": "sealed-sterling",
      "metadata": {
        "id": "sealed-sterling"
      },
      "source": [
        "## Parsing the raw data\n",
        "\n",
        "Now you need to read the data from the csv file. To do so, complete the `parse_data_from_file` function.\n",
        "\n",
        "A couple of things to note:\n",
        "\n",
        "- You should NOT omit the first line as the file does not contain headers.\n",
        "- There is no need to save the data points as numpy arrays, regular lists is fine.\n",
        "- To read from csv files use `csv.reader` by passing the appropriate arguments.\n",
        "- `csv.reader` returns an iterable that returns each row in every iteration. So the label can be accessed via `row[0]` and the text via `row[5]`.\n",
        "- The labels are originally encoded as strings ('0' representing negative and '4' representing positive). **You need to change this so that the labels are integers and 0 is used for representing negative, while 1 should represent positive.**\n"
      ]
    },
    {
      "cell_type": "code",
      "execution_count": null,
      "id": "imperial-scratch",
      "metadata": {
        "tags": [
          "graded"
        ],
        "id": "imperial-scratch"
      },
      "outputs": [],
      "source": [
        "def parse_data_from_file(filename):\n",
        "    \"\"\"\n",
        "    Extracts sentences and labels from a CSV file\n",
        "    \n",
        "    Args:\n",
        "        filename (string): path to the CSV file\n",
        "    \n",
        "    Returns:\n",
        "        sentences, labels (list of string, list of string): tuple containing lists of sentences and labels\n",
        "    \"\"\"\n",
        "    \n",
        "    sentences = []\n",
        "    labels = []\n",
        "    \n",
        "    with open(filename, 'r') as csvfile:\n",
        "        ### START CODE HERE\n",
        "        reader = csv.reader(csvfile, delimiter=',')\n",
        "        for row in reader:\n",
        "            sentences.append(row[5])\n",
        "            labels.append( 0 if row[0] == '0' else 1  )\n",
        "        \n",
        "        ### END CODE HERE\n",
        "        \n",
        "    return sentences, labels"
      ]
    },
    {
      "cell_type": "code",
      "execution_count": null,
      "id": "banned-medicare",
      "metadata": {
        "tags": [
          "graded"
        ],
        "id": "banned-medicare",
        "outputId": "b90c71ce-de8e-47b0-af28-1866142fdcb7"
      },
      "outputs": [
        {
          "name": "stdout",
          "output_type": "stream",
          "text": [
            "dataset contains 1600000 examples\n",
            "\n",
            "Text of second example should look like this:\n",
            "is upset that he can't update his Facebook by texting it... and might cry as a result  School today also. Blah!\n",
            "\n",
            "Text of fourth example should look like this:\n",
            "my whole body feels itchy and like its on fire \n",
            "\n",
            "Labels of last 5 examples should look like this:\n",
            "[1, 1, 1, 1, 1]\n"
          ]
        }
      ],
      "source": [
        "# Test your function\n",
        "sentences, labels = parse_data_from_file(SENTIMENT_CSV)\n",
        "\n",
        "print(f\"dataset contains {len(sentences)} examples\\n\")\n",
        "\n",
        "print(f\"Text of second example should look like this:\\n{sentences[1]}\\n\")\n",
        "print(f\"Text of fourth example should look like this:\\n{sentences[3]}\")\n",
        "\n",
        "print(f\"\\nLabels of last 5 examples should look like this:\\n{labels[-5:]}\")\n"
      ]
    },
    {
      "cell_type": "markdown",
      "id": "confidential-delay",
      "metadata": {
        "id": "confidential-delay"
      },
      "source": [
        "***Expected Output:***\n",
        "\n",
        "```\n",
        "dataset contains 1600000 examples\n",
        "\n",
        "Text of second example should look like this:\n",
        "is upset that he can't update his Facebook by texting it... and might cry as a result  School today also. Blah!\n",
        "\n",
        "Text of fourth example should look like this:\n",
        "my whole body feels itchy and like its on fire \n",
        "\n",
        "Labels of last 5 examples should look like this:\n",
        "[1, 1, 1, 1, 1]\n",
        "\n",
        "```"
      ]
    },
    {
      "cell_type": "markdown",
      "id": "residential-tonight",
      "metadata": {
        "id": "residential-tonight"
      },
      "source": [
        "You might have noticed that this dataset contains a lot of examples. In order to keep a low execution time of this assignment you will be using only 10% of the original data. The next cell does this while also randomnizing the datapoints that will be used:"
      ]
    },
    {
      "cell_type": "code",
      "execution_count": null,
      "id": "framed-holmes",
      "metadata": {
        "tags": [
          "graded"
        ],
        "id": "framed-holmes",
        "outputId": "dc332f9c-8093-47bc-f282-b5fbc7fcf35d"
      },
      "outputs": [
        {
          "name": "stdout",
          "output_type": "stream",
          "text": [
            "There are 160000 sentences and 160000 labels after random sampling\n",
            "\n"
          ]
        }
      ],
      "source": [
        "# Bundle the two lists into a single one\n",
        "sentences_and_labels = list(zip(sentences, labels))\n",
        "\n",
        "# Perform random sampling\n",
        "random.seed(42)\n",
        "sentences_and_labels = random.sample(sentences_and_labels, MAX_EXAMPLES)\n",
        "\n",
        "# Unpack back into separate lists\n",
        "sentences, labels = zip(*sentences_and_labels)\n",
        "\n",
        "print(f\"There are {len(sentences)} sentences and {len(labels)} labels after random sampling\\n\")"
      ]
    },
    {
      "cell_type": "markdown",
      "id": "guilty-denial",
      "metadata": {
        "id": "guilty-denial"
      },
      "source": [
        "***Expected Output:***\n",
        "\n",
        "```\n",
        "There are 160000 sentences and 160000 labels after random sampling\n",
        "\n",
        "```"
      ]
    },
    {
      "cell_type": "markdown",
      "id": "contained-bridge",
      "metadata": {
        "id": "contained-bridge"
      },
      "source": [
        "## Training - Validation Split\n",
        "\n",
        "Now you will code the `train_val_split`, which given the list of sentences, the list of labels and the proportion of data for the training set, should return the training and validation sentences and labels:"
      ]
    },
    {
      "cell_type": "code",
      "execution_count": null,
      "id": "elegant-medicare",
      "metadata": {
        "tags": [
          "graded"
        ],
        "id": "elegant-medicare"
      },
      "outputs": [],
      "source": [
        "def train_val_split(sentences, labels, training_split):\n",
        "    \"\"\"\n",
        "    Splits the dataset into training and validation sets\n",
        "    \n",
        "    Args:\n",
        "        sentences (list of string): lower-cased sentences without stopwords\n",
        "        labels (list of string): list of labels\n",
        "        training split (float): proportion of the dataset to convert to include in the train set\n",
        "    \n",
        "    Returns:\n",
        "        train_sentences, validation_sentences, train_labels, validation_labels - lists containing the data splits\n",
        "    \"\"\"    \n",
        "    ### START CODE HERE\n",
        "    \n",
        "    # Compute the number of sentences that will be used for training (should be an integer)\n",
        "    train_size = int(len(sentences)*training_split)\n",
        "\n",
        "    # Split the sentences and labels into train/validation splits\n",
        "    train_sentences = sentences[:train_size]\n",
        "    train_labels = labels[:train_size]\n",
        "\n",
        "    validation_sentences = sentences[train_size:]\n",
        "    validation_labels = labels[train_size:]\n",
        "    \n",
        "    ### END CODE HERE\n",
        "    \n",
        "    return train_sentences, validation_sentences, train_labels, validation_labels"
      ]
    },
    {
      "cell_type": "code",
      "execution_count": null,
      "id": "green-finding",
      "metadata": {
        "tags": [
          "graded"
        ],
        "id": "green-finding",
        "outputId": "188b6ccf-8090-476c-83e2-ebe1c10f6f4f"
      },
      "outputs": [
        {
          "name": "stdout",
          "output_type": "stream",
          "text": [
            "There are 144000 sentences for training.\n",
            "\n",
            "There are 144000 labels for training.\n",
            "\n",
            "There are 16000 sentences for validation.\n",
            "\n",
            "There are 16000 labels for validation.\n"
          ]
        }
      ],
      "source": [
        "# Test your function\n",
        "train_sentences, val_sentences, train_labels, val_labels = train_val_split(sentences, labels, TRAINING_SPLIT)\n",
        "\n",
        "print(f\"There are {len(train_sentences)} sentences for training.\\n\")\n",
        "print(f\"There are {len(train_labels)} labels for training.\\n\")\n",
        "print(f\"There are {len(val_sentences)} sentences for validation.\\n\")\n",
        "print(f\"There are {len(val_labels)} labels for validation.\")"
      ]
    },
    {
      "cell_type": "markdown",
      "id": "imperial-bangkok",
      "metadata": {
        "id": "imperial-bangkok"
      },
      "source": [
        "***Expected Output:***\n",
        "\n",
        "```\n",
        "There are 144000 sentences for training.\n",
        "\n",
        "There are 144000 labels for training.\n",
        "\n",
        "There are 16000 sentences for validation.\n",
        "\n",
        "There are 16000 labels for validation.\n",
        "\n",
        "```"
      ]
    },
    {
      "cell_type": "markdown",
      "id": "wired-fifteen",
      "metadata": {
        "id": "wired-fifteen"
      },
      "source": [
        "## Tokenization - Sequences, truncating and padding\n",
        "\n",
        "Now that you have sets for training and validation it is time for you to begin the tokenization process.\n",
        "\n",
        "Begin by completing the `fit_tokenizer` function below. This function should return a [Tokenizer](https://www.tensorflow.org/api_docs/python/tf/keras/preprocessing/text/Tokenizer) that has been fitted to the training sentences."
      ]
    },
    {
      "cell_type": "code",
      "execution_count": null,
      "id": "atmospheric-shakespeare",
      "metadata": {
        "tags": [
          "graded"
        ],
        "id": "atmospheric-shakespeare"
      },
      "outputs": [],
      "source": [
        "def fit_tokenizer(train_sentences, oov_token):\n",
        "    \"\"\"\n",
        "    Instantiates the Tokenizer class on the training sentences\n",
        "    \n",
        "    Args:\n",
        "        train_sentences (list of string): lower-cased sentences without stopwords to be used for training\n",
        "        oov_token (string) - symbol for the out-of-vocabulary token\n",
        "    \n",
        "    Returns:\n",
        "        tokenizer (object): an instance of the Tokenizer class containing the word-index dictionary\n",
        "    \"\"\"\n",
        "    ### START CODE HERE\n",
        "    \n",
        "    # Instantiate the Tokenizer class, passing in the correct value for oov_token\n",
        "    tokenizer = Tokenizer(oov_token=oov_token)\n",
        "    \n",
        "    # Fit the tokenizer to the training sentences\n",
        "    tokenizer.fit_on_texts(train_sentences)\n",
        "    \n",
        "    ### END CODE HERE\n",
        "    \n",
        "    return tokenizer"
      ]
    },
    {
      "cell_type": "code",
      "execution_count": null,
      "id": "included-entertainment",
      "metadata": {
        "tags": [
          "graded"
        ],
        "id": "included-entertainment",
        "outputId": "45849277-3b25-4b0e-82cc-56b51b81613a"
      },
      "outputs": [
        {
          "name": "stdout",
          "output_type": "stream",
          "text": [
            "Vocabulary contains 128293 words\n",
            "\n",
            "<OOV> token included in vocabulary\n",
            "\n",
            "index of word 'i' should be 2\n"
          ]
        }
      ],
      "source": [
        "# Test your function\n",
        "tokenizer = fit_tokenizer(train_sentences, OOV_TOKEN)\n",
        "\n",
        "word_index = tokenizer.word_index\n",
        "VOCAB_SIZE = len(word_index)\n",
        "\n",
        "print(f\"Vocabulary contains {VOCAB_SIZE} words\\n\")\n",
        "print(\"<OOV> token included in vocabulary\" if \"<OOV>\" in word_index else \"<OOV> token NOT included in vocabulary\")\n",
        "print(f\"\\nindex of word 'i' should be {word_index['i']}\")\n",
        "\n"
      ]
    },
    {
      "cell_type": "markdown",
      "id": "covered-williams",
      "metadata": {
        "id": "covered-williams"
      },
      "source": [
        "***Expected Output:***\n",
        "\n",
        "```\n",
        "Vocabulary contains 128293 words\n",
        "\n",
        "<OOV> token included in vocabulary\n",
        "\n",
        "index of word 'i' should be 2\n",
        "\n",
        "```"
      ]
    },
    {
      "cell_type": "code",
      "execution_count": null,
      "id": "convenient-dependence",
      "metadata": {
        "id": "convenient-dependence",
        "outputId": "9e91bc2f-3238-4c12-df75-22aa99479980"
      },
      "outputs": [
        {
          "data": {
            "text/plain": [
              "{'<OOV>': 1,\n",
              " 'i': 2,\n",
              " 'to': 3,\n",
              " 'the': 4,\n",
              " 'a': 5,\n",
              " 'my': 6,\n",
              " 'and': 7,\n",
              " 'you': 8,\n",
              " 'is': 9,\n",
              " 'it': 10}"
            ]
          },
          "execution_count": 38,
          "metadata": {},
          "output_type": "execute_result"
        }
      ],
      "source": [
        "import itertools\n",
        "#output a slice of the world index\n",
        "dict(itertools.islice(word_index.items(), 10))\n"
      ]
    },
    {
      "cell_type": "code",
      "execution_count": null,
      "id": "attractive-cooper",
      "metadata": {
        "tags": [
          "graded"
        ],
        "id": "attractive-cooper"
      },
      "outputs": [],
      "source": [
        "def seq_pad_and_trunc(sentences, tokenizer, padding, truncating, maxlen):\n",
        "    \"\"\"\n",
        "    Generates an array of token sequences and pads them to the same length\n",
        "    \n",
        "    Args:\n",
        "        sentences (list of string): list of sentences to tokenize and pad\n",
        "        tokenizer (object): Tokenizer instance containing the word-index dictionary\n",
        "        padding (string): type of padding to use\n",
        "        truncating (string): type of truncating to use\n",
        "        maxlen (int): maximum length of the token sequence\n",
        "    \n",
        "    Returns:\n",
        "        pad_trunc_sequences (array of int): tokenized sentences padded to the same length\n",
        "    \"\"\"        \n",
        "    ### START CODE HERE\n",
        "       \n",
        "    # Convert sentences to sequences\n",
        "    sequences = tokenizer.texts_to_sequences(sentences)\n",
        "    \n",
        "    # Pad the sequences using the correct padding, truncating and maxlen\n",
        "    pad_trunc_sequences = pad_sequences(sequences,padding=padding,maxlen=maxlen ,truncating=truncating)\n",
        "    \n",
        "    ### END CODE HERE\n",
        "    \n",
        "    return pad_trunc_sequences"
      ]
    },
    {
      "cell_type": "code",
      "execution_count": null,
      "id": "extra-mention",
      "metadata": {
        "tags": [
          "graded"
        ],
        "id": "extra-mention",
        "outputId": "bb9c28cf-af4e-4981-fe5d-cf6741d3871e"
      },
      "outputs": [
        {
          "name": "stdout",
          "output_type": "stream",
          "text": [
            "Padded and truncated training sequences have shape: (144000, 16)\n",
            "\n",
            "Padded and truncated validation sequences have shape: (16000, 16)\n"
          ]
        }
      ],
      "source": [
        "# Test your function\n",
        "train_pad_trunc_seq = seq_pad_and_trunc(train_sentences, tokenizer, PADDING, TRUNCATING, MAXLEN)\n",
        "val_pad_trunc_seq = seq_pad_and_trunc(val_sentences, tokenizer, PADDING, TRUNCATING, MAXLEN)\n",
        "\n",
        "print(f\"Padded and truncated training sequences have shape: {train_pad_trunc_seq.shape}\\n\")\n",
        "print(f\"Padded and truncated validation sequences have shape: {val_pad_trunc_seq.shape}\")"
      ]
    },
    {
      "cell_type": "markdown",
      "id": "posted-stockholm",
      "metadata": {
        "id": "posted-stockholm"
      },
      "source": [
        "***Expected Output:***\n",
        "\n",
        "```\n",
        "Padded and truncated training sequences have shape: (144000, 16)\n",
        "\n",
        "Padded and truncated validation sequences have shape: (16000, 16)\n",
        "\n",
        "```"
      ]
    },
    {
      "cell_type": "markdown",
      "id": "least-rough",
      "metadata": {
        "id": "least-rough"
      },
      "source": [
        "Remember that the `pad_sequences` function returns numpy arrays, so your training and validation sequences are already in this format.\n",
        "\n",
        "However the labels are still Python lists. Before going forward you should convert them numpy arrays as well. You can do this by running the following cell:"
      ]
    },
    {
      "cell_type": "code",
      "execution_count": null,
      "id": "studied-minneapolis",
      "metadata": {
        "tags": [
          "graded"
        ],
        "id": "studied-minneapolis"
      },
      "outputs": [],
      "source": [
        "train_labels = np.array(train_labels)\n",
        "val_labels = np.array(val_labels)"
      ]
    },
    {
      "cell_type": "markdown",
      "id": "corresponding-choir",
      "metadata": {
        "id": "corresponding-choir"
      },
      "source": [
        "# Using pre-defined Embeddings\n",
        "\n",
        "This time you will not be learning embeddings from your data but you will be using pre-trained word vectors.\n",
        "\n",
        "In particular you will be using the 100 dimension version of [GloVe](https://nlp.stanford.edu/projects/glove/) from Stanford."
      ]
    },
    {
      "cell_type": "code",
      "execution_count": null,
      "id": "continental-pittsburgh",
      "metadata": {
        "tags": [
          "graded"
        ],
        "id": "continental-pittsburgh"
      },
      "outputs": [],
      "source": [
        "# Define path to file containing the embeddings\n",
        "GLOVE_FILE = './data/glove.6B.100d.txt'\n",
        "\n",
        "# Initialize an empty embeddings index dictionary\n",
        "GLOVE_EMBEDDINGS = {}\n",
        "\n",
        "# Read file and fill GLOVE_EMBEDDINGS with its contents\n",
        "with open(GLOVE_FILE) as f:\n",
        "    for line in f:\n",
        "        values = line.split()\n",
        "        word = values[0]\n",
        "        coefs = np.asarray(values[1:], dtype='float32')\n",
        "        GLOVE_EMBEDDINGS[word] = coefs"
      ]
    },
    {
      "cell_type": "markdown",
      "id": "varied-furniture",
      "metadata": {
        "id": "varied-furniture"
      },
      "source": [
        "Now you have access to GloVe's pre-trained word vectors. Isn't that cool?\n",
        "\n",
        "Let's take a look at the vector for the word **dog**:"
      ]
    },
    {
      "cell_type": "code",
      "execution_count": null,
      "id": "awful-mouse",
      "metadata": {
        "tags": [
          "graded"
        ],
        "id": "awful-mouse",
        "outputId": "f22bfdaf-e724-4fde-e22d-af9ba40e1e8b"
      },
      "outputs": [
        {
          "name": "stdout",
          "output_type": "stream",
          "text": [
            "Vector representation of word dog looks like this:\n",
            "\n",
            "[ 0.30817    0.30938    0.52803   -0.92543   -0.73671    0.63475\n",
            "  0.44197    0.10262   -0.09142   -0.56607   -0.5327     0.2013\n",
            "  0.7704    -0.13983    0.13727    1.1128     0.89301   -0.17869\n",
            " -0.0019722  0.57289    0.59479    0.50428   -0.28991   -1.3491\n",
            "  0.42756    1.2748    -1.1613    -0.41084    0.042804   0.54866\n",
            "  0.18897    0.3759     0.58035    0.66975    0.81156    0.93864\n",
            " -0.51005   -0.070079   0.82819   -0.35346    0.21086   -0.24412\n",
            " -0.16554   -0.78358   -0.48482    0.38968   -0.86356   -0.016391\n",
            "  0.31984   -0.49246   -0.069363   0.018869  -0.098286   1.3126\n",
            " -0.12116   -1.2399    -0.091429   0.35294    0.64645    0.089642\n",
            "  0.70294    1.1244     0.38639    0.52084    0.98787    0.79952\n",
            " -0.34625    0.14095    0.80167    0.20987   -0.86007   -0.15308\n",
            "  0.074523   0.40816    0.019208   0.51587   -0.34428   -0.24525\n",
            " -0.77984    0.27425    0.22418    0.20164    0.017431  -0.014697\n",
            " -1.0235    -0.39695   -0.0056188  0.30569    0.31748    0.021404\n",
            "  0.11837   -0.11319    0.42456    0.53405   -0.16717   -0.27185\n",
            " -0.6255     0.12883    0.62529   -0.52086  ]\n"
          ]
        }
      ],
      "source": [
        "test_word = 'dog'\n",
        "\n",
        "test_vector = GLOVE_EMBEDDINGS[test_word]\n",
        "\n",
        "print(f\"Vector representation of word {test_word} looks like this:\\n\\n{test_vector}\")"
      ]
    },
    {
      "cell_type": "markdown",
      "id": "persistent-tolerance",
      "metadata": {
        "id": "persistent-tolerance"
      },
      "source": [
        "Feel free to change the `test_word` to see the vector representation of any word you can think of.\n",
        "\n",
        "Also, notice that the dimension of each vector is 100. You can easily double check this by running the following cell:"
      ]
    },
    {
      "cell_type": "code",
      "execution_count": null,
      "id": "published-surgery",
      "metadata": {
        "tags": [
          "graded"
        ],
        "id": "published-surgery",
        "outputId": "d4fd89e7-33e1-45b4-a7d9-a39c9b5ab3a8"
      },
      "outputs": [
        {
          "name": "stdout",
          "output_type": "stream",
          "text": [
            "Each word vector has shape: (100,)\n"
          ]
        }
      ],
      "source": [
        "print(f\"Each word vector has shape: {test_vector.shape}\")"
      ]
    },
    {
      "cell_type": "markdown",
      "id": "handy-chuck",
      "metadata": {
        "id": "handy-chuck"
      },
      "source": [
        "## Represent the words in your vocabulary using the embeddings\n",
        "\n",
        "Save the vector representation of each word in the vocabulary in a numpy array.\n",
        "\n",
        "A couple of things to notice:\n",
        "- If a word in your vocabulary is not present in `GLOVE_EMBEDDINGS` the representation for that word is left as a column of zeros.\n",
        "- `word_index` starts counting at 1, because of this you will need to add an extra column at the left-most side of the `EMBEDDINGS_MATRIX` array. This is the reason why you add 1 to `VOCAB_SIZE` in the cell below:"
      ]
    },
    {
      "cell_type": "code",
      "execution_count": null,
      "id": "crazy-process",
      "metadata": {
        "colab": {
          "base_uri": "https://localhost:8080/"
        },
        "id": "crazy-process",
        "outputId": "538df576-bbfc-4590-c3a3-0559dab5f176",
        "tags": [
          "graded"
        ]
      },
      "outputs": [
        {
          "name": "stdout",
          "output_type": "stream",
          "text": [
            "position : 2 , word : i\n",
            "position : 3 , word : to\n",
            "position : 4 , word : the\n",
            "position : 5 , word : a\n",
            "position : 6 , word : my\n",
            "position : 7 , word : and\n",
            "position : 8 , word : you\n",
            "position : 9 , word : is\n"
          ]
        }
      ],
      "source": [
        "# Initialize an empty numpy array with the appropriate size\n",
        "EMBEDDINGS_MATRIX = np.zeros((VOCAB_SIZE+1, EMBEDDING_DIM))\n",
        "WORD_NOT_FOUND =[]\n",
        "\n",
        "# Iterate all of the words in the vocabulary and if the vector representation for \n",
        "# each word exists within GloVe's representations, save it in the EMBEDDINGS_MATRIX array\n",
        "for word, i in word_index.items():\n",
        "    embedding_vector = GLOVE_EMBEDDINGS.get(word)\n",
        "    if embedding_vector is not None:\n",
        "        EMBEDDINGS_MATRIX[i] = embedding_vector\n",
        "        if i<10:\n",
        "            print(f\"position : {i} , word : {word}\")\n",
        "    else:\n",
        "        WORD_NOT_FOUND.append(f\"position : {i} , word : {word}  NOT FOUND\")\n"
      ]
    },
    {
      "cell_type": "markdown",
      "id": "otherwise-chester",
      "metadata": {
        "id": "otherwise-chester"
      },
      "source": [
        "Now you have the pre-trained embeddings ready to use!"
      ]
    },
    {
      "cell_type": "code",
      "execution_count": null,
      "id": "secret-fundamental",
      "metadata": {
        "id": "secret-fundamental",
        "outputId": "6ecd2419-7f49-48a2-826d-1c11dfde4103"
      },
      "outputs": [
        {
          "name": "stdout",
          "output_type": "stream",
          "text": [
            "[[ 0.00000000e+00  0.00000000e+00  0.00000000e+00  0.00000000e+00\n",
            "   0.00000000e+00  0.00000000e+00  0.00000000e+00  0.00000000e+00\n",
            "   0.00000000e+00  0.00000000e+00  0.00000000e+00  0.00000000e+00\n",
            "   0.00000000e+00  0.00000000e+00  0.00000000e+00  0.00000000e+00\n",
            "   0.00000000e+00  0.00000000e+00  0.00000000e+00  0.00000000e+00\n",
            "   0.00000000e+00  0.00000000e+00  0.00000000e+00  0.00000000e+00\n",
            "   0.00000000e+00  0.00000000e+00  0.00000000e+00  0.00000000e+00\n",
            "   0.00000000e+00  0.00000000e+00  0.00000000e+00  0.00000000e+00\n",
            "   0.00000000e+00  0.00000000e+00  0.00000000e+00  0.00000000e+00\n",
            "   0.00000000e+00  0.00000000e+00  0.00000000e+00  0.00000000e+00\n",
            "   0.00000000e+00  0.00000000e+00  0.00000000e+00  0.00000000e+00\n",
            "   0.00000000e+00  0.00000000e+00  0.00000000e+00  0.00000000e+00\n",
            "   0.00000000e+00  0.00000000e+00  0.00000000e+00  0.00000000e+00\n",
            "   0.00000000e+00  0.00000000e+00  0.00000000e+00  0.00000000e+00\n",
            "   0.00000000e+00  0.00000000e+00  0.00000000e+00  0.00000000e+00\n",
            "   0.00000000e+00  0.00000000e+00  0.00000000e+00  0.00000000e+00\n",
            "   0.00000000e+00  0.00000000e+00  0.00000000e+00  0.00000000e+00\n",
            "   0.00000000e+00  0.00000000e+00  0.00000000e+00  0.00000000e+00\n",
            "   0.00000000e+00  0.00000000e+00  0.00000000e+00  0.00000000e+00\n",
            "   0.00000000e+00  0.00000000e+00  0.00000000e+00  0.00000000e+00\n",
            "   0.00000000e+00  0.00000000e+00  0.00000000e+00  0.00000000e+00\n",
            "   0.00000000e+00  0.00000000e+00  0.00000000e+00  0.00000000e+00\n",
            "   0.00000000e+00  0.00000000e+00  0.00000000e+00  0.00000000e+00\n",
            "   0.00000000e+00  0.00000000e+00  0.00000000e+00  0.00000000e+00\n",
            "   0.00000000e+00  0.00000000e+00  0.00000000e+00  0.00000000e+00]\n",
            " [ 0.00000000e+00  0.00000000e+00  0.00000000e+00  0.00000000e+00\n",
            "   0.00000000e+00  0.00000000e+00  0.00000000e+00  0.00000000e+00\n",
            "   0.00000000e+00  0.00000000e+00  0.00000000e+00  0.00000000e+00\n",
            "   0.00000000e+00  0.00000000e+00  0.00000000e+00  0.00000000e+00\n",
            "   0.00000000e+00  0.00000000e+00  0.00000000e+00  0.00000000e+00\n",
            "   0.00000000e+00  0.00000000e+00  0.00000000e+00  0.00000000e+00\n",
            "   0.00000000e+00  0.00000000e+00  0.00000000e+00  0.00000000e+00\n",
            "   0.00000000e+00  0.00000000e+00  0.00000000e+00  0.00000000e+00\n",
            "   0.00000000e+00  0.00000000e+00  0.00000000e+00  0.00000000e+00\n",
            "   0.00000000e+00  0.00000000e+00  0.00000000e+00  0.00000000e+00\n",
            "   0.00000000e+00  0.00000000e+00  0.00000000e+00  0.00000000e+00\n",
            "   0.00000000e+00  0.00000000e+00  0.00000000e+00  0.00000000e+00\n",
            "   0.00000000e+00  0.00000000e+00  0.00000000e+00  0.00000000e+00\n",
            "   0.00000000e+00  0.00000000e+00  0.00000000e+00  0.00000000e+00\n",
            "   0.00000000e+00  0.00000000e+00  0.00000000e+00  0.00000000e+00\n",
            "   0.00000000e+00  0.00000000e+00  0.00000000e+00  0.00000000e+00\n",
            "   0.00000000e+00  0.00000000e+00  0.00000000e+00  0.00000000e+00\n",
            "   0.00000000e+00  0.00000000e+00  0.00000000e+00  0.00000000e+00\n",
            "   0.00000000e+00  0.00000000e+00  0.00000000e+00  0.00000000e+00\n",
            "   0.00000000e+00  0.00000000e+00  0.00000000e+00  0.00000000e+00\n",
            "   0.00000000e+00  0.00000000e+00  0.00000000e+00  0.00000000e+00\n",
            "   0.00000000e+00  0.00000000e+00  0.00000000e+00  0.00000000e+00\n",
            "   0.00000000e+00  0.00000000e+00  0.00000000e+00  0.00000000e+00\n",
            "   0.00000000e+00  0.00000000e+00  0.00000000e+00  0.00000000e+00\n",
            "   0.00000000e+00  0.00000000e+00  0.00000000e+00  0.00000000e+00]\n",
            " [-4.65390012e-02  6.19660020e-01  5.66470027e-01 -4.65840012e-01\n",
            "  -1.18900001e+00  4.45989996e-01  6.60350025e-02  3.19099993e-01\n",
            "   1.46789998e-01 -2.21190006e-01  7.92389989e-01  2.99050003e-01\n",
            "   1.60730004e-01  2.53240000e-02  1.86780006e-01 -3.10009986e-01\n",
            "  -2.81080008e-01  6.05149984e-01 -1.06540000e+00  5.24760008e-01\n",
            "   6.41520023e-02  1.03579998e+00 -4.07790005e-01 -3.80109996e-01\n",
            "   3.08010012e-01  5.99640012e-01 -2.69910008e-01 -7.60349989e-01\n",
            "   9.42219973e-01 -4.69190001e-01 -1.82779998e-01  9.06520009e-01\n",
            "   7.96710014e-01  2.48249993e-01  2.57129997e-01  6.23199999e-01\n",
            "  -4.47679996e-01  6.53569996e-01  7.69020021e-01 -5.12290001e-01\n",
            "  -4.43329990e-01 -2.18669996e-01  3.83700013e-01 -1.14830005e+00\n",
            "  -9.43979979e-01 -1.50619999e-01  3.00119996e-01 -5.78059971e-01\n",
            "   2.01749995e-01 -1.65910006e+00 -7.91950002e-02  2.64229998e-02\n",
            "   2.20510006e-01  9.97139990e-01 -5.75389981e-01 -2.72659993e+00\n",
            "   3.14480007e-01  7.05219984e-01  1.43809998e+00  9.91259992e-01\n",
            "   1.39760002e-01  1.34739995e+00 -1.17530000e+00  3.95030016e-03\n",
            "   1.02980006e+00  6.46369979e-02  9.08869982e-01  8.28719974e-01\n",
            "  -4.70030010e-01 -1.05750002e-01  5.91600001e-01 -4.22100008e-01\n",
            "   5.73310018e-01 -5.41140020e-01  1.07680000e-01  3.97839993e-01\n",
            "  -4.87440005e-02  6.45959973e-02 -6.14369988e-01 -2.86000013e-01\n",
            "   5.06699979e-01 -4.97579992e-01 -8.15699995e-01  1.64079994e-01\n",
            "  -1.96300006e+00 -2.66930014e-01 -3.75930011e-01 -9.58469987e-01\n",
            "  -8.58399987e-01 -7.15770006e-01 -3.23430002e-01 -4.31210011e-01\n",
            "   4.13919985e-01  2.83740014e-01 -7.09309995e-01  1.50030002e-01\n",
            "  -2.15399995e-01 -3.76159996e-01 -3.25019993e-02  8.06200027e-01]\n",
            " [-1.89700007e-01  5.00239991e-02  1.90840006e-01 -4.91839983e-02\n",
            "  -8.97369981e-02  2.10060000e-01 -5.49520016e-01  9.83769968e-02\n",
            "  -2.01350003e-01  3.42409998e-01 -9.26769972e-02  1.60999998e-01\n",
            "  -1.32679999e-01 -2.81599998e-01  1.87370002e-01 -4.29589987e-01\n",
            "   9.60389972e-01  1.39719993e-01 -1.07809997e+00  4.05180007e-01\n",
            "   5.05389988e-01 -5.50639987e-01  4.84400004e-01  3.80439997e-01\n",
            "  -2.90549989e-03 -3.49420011e-01 -9.96960029e-02 -7.83680022e-01\n",
            "   1.03629994e+00 -2.31399998e-01 -4.71210003e-01  5.71259975e-01\n",
            "  -2.14540005e-01  3.59580010e-01 -4.83190000e-01  1.08749998e+00\n",
            "   2.85239995e-01  1.24470003e-01 -3.92480008e-02 -7.67320022e-02\n",
            "  -7.63429999e-01 -3.24090004e-01 -5.74899971e-01 -1.08930004e+00\n",
            "  -4.18110013e-01  4.51200008e-01  1.21119998e-01 -5.13670027e-01\n",
            "  -1.33489996e-01 -1.13779998e+00 -2.87680000e-01  1.67740002e-01\n",
            "   5.58040023e-01  1.53869998e+00  1.88590009e-02 -2.97210002e+00\n",
            "  -2.42160007e-01 -9.24950004e-01  2.19919991e+00  2.82339990e-01\n",
            "  -3.47799987e-01  5.16210020e-01 -4.33869988e-01  3.68519992e-01\n",
            "   7.45729983e-01  7.21020028e-02  2.79309988e-01  9.25689995e-01\n",
            "  -5.03359996e-02 -8.58560026e-01 -1.35800004e-01 -9.25509989e-01\n",
            "  -3.39910001e-01 -1.03939998e+00 -6.72030002e-02 -2.13789999e-01\n",
            "  -4.76900011e-01  2.13770002e-01 -8.40080023e-01  5.25359996e-02\n",
            "   5.92980027e-01  2.96039999e-01 -6.76440001e-01  1.39160007e-01\n",
            "  -1.55040002e+00 -2.07650006e-01  7.22199976e-01  5.20560026e-01\n",
            "  -7.62209967e-02 -1.51940003e-01 -1.31339997e-01  5.86169995e-02\n",
            "  -3.18690002e-01 -6.14189982e-01 -6.23929977e-01 -4.15479988e-01\n",
            "  -3.81750017e-02 -3.98039997e-01  4.76469994e-01 -1.59830004e-01]\n",
            " [-3.81940007e-02 -2.44870007e-01  7.28120029e-01 -3.99610013e-01\n",
            "   8.31720009e-02  4.39530015e-02 -3.91409993e-01  3.34399998e-01\n",
            "  -5.75450003e-01  8.74589980e-02  2.87869990e-01 -6.73099980e-02\n",
            "   3.09060007e-01 -2.63839990e-01 -1.32310003e-01 -2.07570001e-01\n",
            "   3.33950013e-01 -3.38479996e-01 -3.17429990e-01 -4.83359993e-01\n",
            "   1.46400005e-01 -3.73039991e-01  3.45770001e-01  5.20410016e-02\n",
            "   4.49460000e-01 -4.69709992e-01  2.62800008e-02 -5.41549981e-01\n",
            "  -1.55180007e-01 -1.41069993e-01 -3.97219993e-02  2.82770008e-01\n",
            "   1.43930003e-01  2.34640002e-01 -3.10209990e-01  8.61729980e-02\n",
            "   2.03970000e-01  5.26239991e-01  1.71639994e-01 -8.23780000e-02\n",
            "  -7.17869997e-01 -4.15309995e-01  2.03349993e-01 -1.27629995e-01\n",
            "   4.13670003e-01  5.51869988e-01  5.79079986e-01 -3.34769994e-01\n",
            "  -3.65590006e-01 -5.48569977e-01 -6.28919974e-02  2.65839994e-01\n",
            "   3.02049994e-01  9.97749984e-01 -8.04809988e-01 -3.02430010e+00\n",
            "   1.25399996e-02 -3.69419992e-01  2.21670008e+00  7.22010016e-01\n",
            "  -2.49779999e-01  9.21360016e-01  3.45139988e-02  4.67449993e-01\n",
            "   1.10790002e+00 -1.93580002e-01 -7.45749995e-02  2.33530000e-01\n",
            "  -5.20620011e-02 -2.20440000e-01  5.71620017e-02 -1.58059999e-01\n",
            "  -3.07980001e-01 -4.16249990e-01  3.79720002e-01  1.50059998e-01\n",
            "  -5.32119989e-01 -2.05500007e-01 -1.25259995e+00  7.16240034e-02\n",
            "   7.05649972e-01  4.97440010e-01 -4.20630008e-01  2.61480004e-01\n",
            "  -1.53799999e+00 -3.02230000e-01 -7.34380037e-02 -2.83120006e-01\n",
            "   3.71039987e-01 -2.52169997e-01  1.62150003e-02 -1.70990005e-02\n",
            "  -3.89840007e-01  8.74239981e-01 -7.25690007e-01 -5.10580003e-01\n",
            "  -5.20280004e-01 -1.45899996e-01  8.27799976e-01  2.70619988e-01]]\n",
            "87105\n"
          ]
        },
        {
          "data": {
            "text/plain": [
              "['position : 1 , word : <OOV>  NOT FOUND',\n",
              " \"position : 20 , word : i'm  NOT FOUND\",\n",
              " \"position : 42 , word : it's  NOT FOUND\",\n",
              " \"position : 66 , word : don't  NOT FOUND\",\n",
              " \"position : 70 , word : can't  NOT FOUND\",\n",
              " \"position : 129 , word : i'll  NOT FOUND\",\n",
              " \"position : 144 , word : that's  NOT FOUND\",\n",
              " \"position : 150 , word : didn't  NOT FOUND\",\n",
              " \"position : 155 , word : you're  NOT FOUND\",\n",
              " \"position : 156 , word : i've  NOT FOUND\",\n",
              " \"position : 255 , word : won't  NOT FOUND\",\n",
              " \"position : 277 , word : doesn't  NOT FOUND\",\n",
              " \"position : 343 , word : he's  NOT FOUND\",\n",
              " \"position : 346 , word : haven't  NOT FOUND\",\n",
              " \"position : 351 , word : isn't  NOT FOUND\",\n",
              " \"position : 393 , word : i'd  NOT FOUND\",\n",
              " 'position : 411 , word : hahaha  NOT FOUND',\n",
              " 'position : 421 , word : tinyurl  NOT FOUND',\n",
              " \"position : 431 , word : we're  NOT FOUND\",\n",
              " \"position : 434 , word : she's  NOT FOUND\",\n",
              " \"position : 461 , word : there's  NOT FOUND\",\n",
              " \"position : 465 , word : couldn't  NOT FOUND\",\n",
              " \"position : 475 , word : wasn't  NOT FOUND\",\n",
              " \"position : 476 , word : what's  NOT FOUND\",\n",
              " \"position : 477 , word : they're  NOT FOUND\",\n",
              " 'position : 545 , word : lmao  NOT FOUND',\n",
              " 'position : 553 , word : mileycyrus  NOT FOUND',\n",
              " \"position : 607 , word : you'll  NOT FOUND\",\n",
              " 'position : 615 , word : ddlovato  NOT FOUND',\n",
              " 'position : 627 , word : tommcfly  NOT FOUND',\n",
              " \"position : 630 , word : we'll  NOT FOUND\",\n",
              " \"position : 761 , word : wouldn't  NOT FOUND\",\n",
              " \"position : 786 , word : let's  NOT FOUND\",\n",
              " \"position : 799 , word : aren't  NOT FOUND\",\n",
              " 'position : 816 , word : idk  NOT FOUND',\n",
              " 'position : 823 , word : bday  NOT FOUND',\n",
              " 'position : 848 , word : followfriday  NOT FOUND',\n",
              " \"position : 851 , word : you've  NOT FOUND\",\n",
              " \"position : 858 , word : it'll  NOT FOUND\",\n",
              " 'position : 884 , word : jonasbrothers  NOT FOUND',\n",
              " 'position : 999 , word : hahah  NOT FOUND',\n",
              " \"position : 1033 , word : mother's  NOT FOUND\",\n",
              " \"position : 1128 , word : how's  NOT FOUND\",\n",
              " 'position : 1163 , word : myloc  NOT FOUND',\n",
              " \"position : 1190 , word : who's  NOT FOUND\",\n",
              " 'position : 1216 , word : â\\x99«  NOT FOUND',\n",
              " 'position : 1277 , word : thanx  NOT FOUND',\n",
              " 'position : 1283 , word : hahahaha  NOT FOUND',\n",
              " \"position : 1310 , word : shouldn't  NOT FOUND\",\n",
              " 'position : 1312 , word : davidarchie  NOT FOUND']"
            ]
          },
          "execution_count": 49,
          "metadata": {},
          "output_type": "execute_result"
        }
      ],
      "source": [
        "print(EMBEDDINGS_MATRIX[:5])\n",
        "print(len(WORD_NOT_FOUND))\n",
        "WORD_NOT_FOUND[:50]"
      ]
    },
    {
      "cell_type": "markdown",
      "id": "missing-solution",
      "metadata": {
        "id": "missing-solution"
      },
      "source": [
        "## Define a model that does not overfit\n",
        "\n",
        "Now you need to define a model that will handle the problem at hand while not overfitting.\n",
        "\n",
        "A couple of things to note / hints:\n",
        "\n",
        "- The first layer is provided so you can see how the Embedding layer is configured when using pre-trained embeddings\n",
        "\n",
        "\n",
        "- You can try different combinations of layers covered in previous ungraded labs such as:\n",
        "    - `Conv1D`\n",
        "    - `Dropout`\n",
        "    - `GlobalMaxPooling1D`    \n",
        "    - `MaxPooling1D`    \n",
        "    - `LSTM`    \n",
        "    - `Bidirectional(LSTM)`\n",
        "\n",
        "\n",
        "- The last two layers should be `Dense` layers.\n",
        "\n",
        "\n",
        "- There multiple ways of solving this problem. So try an architecture that you think will not overfit.\n",
        "\n",
        "\n",
        "- Try simpler architectures first to avoid long training times. Architectures that are able to solve this problem usually have around 3-4 layers (excluding the last two `Dense` ones)\n",
        "\n",
        "\n",
        "- Include at least one `Dropout` layer to mitigate overfitting."
      ]
    },
    {
      "cell_type": "code",
      "execution_count": null,
      "id": "representative-taylor",
      "metadata": {
        "tags": [
          "graded"
        ],
        "id": "representative-taylor"
      },
      "outputs": [],
      "source": [
        "# GRADED FUNCTION: create_model\n",
        "def create_model(vocab_size, embedding_dim, maxlen, embeddings_matrix):\n",
        "    \"\"\"\n",
        "    Creates a binary sentiment classifier model\n",
        "    \n",
        "    Args:\n",
        "        vocab_size (int): size of the vocabulary for the Embedding layer input\n",
        "        embedding_dim (int): dimensionality of the Embedding layer output\n",
        "        maxlen (int): length of the input sequences\n",
        "        embeddings_matrix (array): predefined weights of the embeddings\n",
        "    \n",
        "    Returns:\n",
        "        model (tf.keras Model): the sentiment classifier model\n",
        "    \"\"\"\n",
        "    ### START CODE HERE\n",
        "    \n",
        "    model = tf.keras.Sequential([ \n",
        "        # This is how you need to set the Embedding layer when using pre-trained embeddings\n",
        "        tf.keras.layers.Embedding(vocab_size+1, embedding_dim, input_length=maxlen, weights=[embeddings_matrix], trainable=False), \n",
        "        tf.keras.layers.Dropout(0.2),\n",
        "        tf.keras.layers.Conv1D(32,5,activation='relu'),\n",
        "        tf.keras.layers.MaxPooling1D(pool_size=4),\n",
        "        tf.keras.layers.Bidirectional(tf.keras.layers.GRU(32)),\n",
        "        tf.keras.layers.Dense(1, activation='sigmoid')\n",
        "    ])\n",
        "    \n",
        "#    model = tf.keras.Sequential([ \n",
        "#        # This is how you need to set the Embedding layer when using pre-trained embeddings\n",
        "#        tf.keras.layers.Embedding(vocab_size+1, embedding_dim, input_length=maxlen, weights=[embeddings_matrix], trainable=False), \n",
        "#        tf.keras.layers.Dropout(0.2),\n",
        "#        tf.keras.layers.Conv1D(128,5,activation='relu'),\n",
        "#        tf.keras.layers.MaxPooling1D(pool_size=4),\n",
        "#        tf.keras.layers.LSTM(32),\n",
        "#        tf.keras.layers.Dense(1, activation='sigmoid')\n",
        "#    ])\n",
        "\n",
        "#https://www.researchgate.net/publication/348847477_Explainable_stock_prices_prediction_from_\n",
        "#financial_news_articles_using_sentiment_analysis\n",
        "    \n",
        "    model.compile(loss='binary_crossentropy',\n",
        "                  optimizer='adam',\n",
        "                  metrics=['accuracy']) \n",
        "\n",
        "    ### END CODE HERE\n",
        "\n",
        "    return model"
      ]
    },
    {
      "cell_type": "code",
      "execution_count": null,
      "id": "explicit-tokyo",
      "metadata": {
        "tags": [
          "graded"
        ],
        "id": "explicit-tokyo",
        "outputId": "5a6dcea5-4c95-4957-a851-14a6b42d1a4b"
      },
      "outputs": [
        {
          "name": "stdout",
          "output_type": "stream",
          "text": [
            "Model: \"sequential_5\"\n",
            "_________________________________________________________________\n",
            " Layer (type)                Output Shape              Param #   \n",
            "=================================================================\n",
            " embedding_6 (Embedding)     (None, 16, 100)           12829400  \n",
            "                                                                 \n",
            " dropout_3 (Dropout)         (None, 16, 100)           0         \n",
            "                                                                 \n",
            " conv1d_1 (Conv1D)           (None, 12, 32)            16032     \n",
            "                                                                 \n",
            " max_pooling1d_1 (MaxPooling  (None, 3, 32)            0         \n",
            " 1D)                                                             \n",
            "                                                                 \n",
            " bidirectional (Bidirectiona  (None, 64)               12672     \n",
            " l)                                                              \n",
            "                                                                 \n",
            " dense_5 (Dense)             (None, 1)                 65        \n",
            "                                                                 \n",
            "=================================================================\n",
            "Total params: 12,858,169\n",
            "Trainable params: 28,769\n",
            "Non-trainable params: 12,829,400\n",
            "_________________________________________________________________\n",
            "Epoch 1/20\n",
            "4500/4500 [==============================] - 38s 8ms/step - loss: 0.5751 - accuracy: 0.6925 - val_loss: 0.5368 - val_accuracy: 0.7238\n",
            "Epoch 2/20\n",
            "4500/4500 [==============================] - 36s 8ms/step - loss: 0.5372 - accuracy: 0.7244 - val_loss: 0.5246 - val_accuracy: 0.7357\n",
            "Epoch 3/20\n",
            "4500/4500 [==============================] - 36s 8ms/step - loss: 0.5217 - accuracy: 0.7359 - val_loss: 0.5122 - val_accuracy: 0.7434\n",
            "Epoch 4/20\n",
            "4500/4500 [==============================] - 36s 8ms/step - loss: 0.5141 - accuracy: 0.7409 - val_loss: 0.5114 - val_accuracy: 0.7444\n",
            "Epoch 5/20\n",
            "4500/4500 [==============================] - 36s 8ms/step - loss: 0.5076 - accuracy: 0.7459 - val_loss: 0.5039 - val_accuracy: 0.7494\n",
            "Epoch 6/20\n",
            "4500/4500 [==============================] - 36s 8ms/step - loss: 0.5028 - accuracy: 0.7495 - val_loss: 0.5148 - val_accuracy: 0.7458\n",
            "Epoch 7/20\n",
            "4500/4500 [==============================] - 38s 9ms/step - loss: 0.5005 - accuracy: 0.7501 - val_loss: 0.5043 - val_accuracy: 0.7466\n",
            "Epoch 8/20\n",
            "4500/4500 [==============================] - 36s 8ms/step - loss: 0.4968 - accuracy: 0.7531 - val_loss: 0.5064 - val_accuracy: 0.7504\n",
            "Epoch 9/20\n",
            "4500/4500 [==============================] - 36s 8ms/step - loss: 0.4939 - accuracy: 0.7549 - val_loss: 0.5039 - val_accuracy: 0.7484\n",
            "Epoch 10/20\n",
            "4500/4500 [==============================] - 37s 8ms/step - loss: 0.4921 - accuracy: 0.7566 - val_loss: 0.5030 - val_accuracy: 0.7529\n",
            "Epoch 11/20\n",
            "4500/4500 [==============================] - 38s 8ms/step - loss: 0.4894 - accuracy: 0.7590 - val_loss: 0.5045 - val_accuracy: 0.7558\n",
            "Epoch 12/20\n",
            "4500/4500 [==============================] - 37s 8ms/step - loss: 0.4878 - accuracy: 0.7597 - val_loss: 0.5059 - val_accuracy: 0.7499\n",
            "Epoch 13/20\n",
            "4500/4500 [==============================] - 37s 8ms/step - loss: 0.4861 - accuracy: 0.7609 - val_loss: 0.5025 - val_accuracy: 0.7541\n",
            "Epoch 14/20\n",
            "4500/4500 [==============================] - 36s 8ms/step - loss: 0.4849 - accuracy: 0.7619 - val_loss: 0.5002 - val_accuracy: 0.7547\n",
            "Epoch 15/20\n",
            "4500/4500 [==============================] - 36s 8ms/step - loss: 0.4843 - accuracy: 0.7608 - val_loss: 0.5037 - val_accuracy: 0.7531\n",
            "Epoch 16/20\n",
            "4500/4500 [==============================] - 37s 8ms/step - loss: 0.4817 - accuracy: 0.7621 - val_loss: 0.5087 - val_accuracy: 0.7514\n",
            "Epoch 17/20\n",
            "4500/4500 [==============================] - 36s 8ms/step - loss: 0.4821 - accuracy: 0.7624 - val_loss: 0.5045 - val_accuracy: 0.7526\n",
            "Epoch 18/20\n",
            "4500/4500 [==============================] - 36s 8ms/step - loss: 0.4813 - accuracy: 0.7647 - val_loss: 0.5064 - val_accuracy: 0.7489\n",
            "Epoch 19/20\n",
            "4500/4500 [==============================] - 36s 8ms/step - loss: 0.4811 - accuracy: 0.7633 - val_loss: 0.5059 - val_accuracy: 0.7488\n",
            "Epoch 20/20\n",
            "4500/4500 [==============================] - 36s 8ms/step - loss: 0.4806 - accuracy: 0.7641 - val_loss: 0.5071 - val_accuracy: 0.7496\n"
          ]
        }
      ],
      "source": [
        "# Create your untrained model\n",
        "model = create_model(VOCAB_SIZE, 100, MAXLEN, EMBEDDINGS_MATRIX)\n",
        "model.summary()\n",
        "\n",
        "# Train the model and save the training history\n",
        "history = model.fit(train_pad_trunc_seq, \n",
        "                    train_labels, \n",
        "                    epochs=20, \n",
        "                    batch_size=128, \n",
        "                    validation_data=(val_pad_trunc_seq, val_labels)\n",
        "                   )"
      ]
    },
    {
      "cell_type": "markdown",
      "id": "local-headquarters",
      "metadata": {
        "id": "local-headquarters"
      },
      "source": [
        "**To pass this assignment your `val_loss` (validation loss) should either be flat or decreasing.** \n",
        "\n",
        "Although a flat `val_loss` and a lowering `train_loss` (or just `loss`) also indicate some overfitting what you really want to avoid is having a lowering `train_loss` and an increasing `val_loss`.\n",
        "\n",
        "With this in mind, the following three curves will be acceptable solutions:"
      ]
    },
    {
      "cell_type": "markdown",
      "id": "single-studio",
      "metadata": {
        "id": "single-studio"
      },
      "source": [
        "<table><tr><td><img src='images/valid-1.png'></td><td><img src='images/valid-2.jpg'></td><td><img src='images/valid-3.jpg'></td></tr></table>"
      ]
    },
    {
      "cell_type": "markdown",
      "id": "eligible-unknown",
      "metadata": {
        "id": "eligible-unknown"
      },
      "source": [
        "While the following would not be able to pass the grading:"
      ]
    },
    {
      "cell_type": "markdown",
      "id": "productive-slave",
      "metadata": {
        "id": "productive-slave"
      },
      "source": [
        "<table><tr><td><img src='images/invalid-1.jpg'></td></tr></table>"
      ]
    },
    {
      "cell_type": "markdown",
      "id": "helpful-tractor",
      "metadata": {
        "id": "helpful-tractor"
      },
      "source": [
        "Run the following cell to check your loss curves:"
      ]
    },
    {
      "cell_type": "code",
      "execution_count": null,
      "id": "golden-stretch",
      "metadata": {
        "tags": [
          "graded"
        ],
        "id": "golden-stretch",
        "outputId": "12efb7d4-e74f-4e4e-e147-ac33e9b23dad"
      },
      "outputs": [
        {
          "data": {
            "image/png": "[encoded data removed]",
            "text/plain": [
              "<Figure size 432x288 with 1 Axes>"
            ]
          },
          "metadata": {
            "needs_background": "light"
          },
          "output_type": "display_data"
        }
      ],
      "source": [
        "#-----------------------------------------------------------\n",
        "# Retrieve a list of list results on training and test data\n",
        "# sets for each training epoch\n",
        "#-----------------------------------------------------------\n",
        "loss = history.history['loss']\n",
        "val_loss = history.history['val_loss']\n",
        "\n",
        "epochs = [*range(20)]\n",
        "\n",
        "#------------------------------------------------\n",
        "# Plot training and validation loss per epoch\n",
        "#------------------------------------------------\n",
        "plt.plot(epochs, loss, 'r')\n",
        "plt.plot(epochs, val_loss, 'b')\n",
        "plt.title('Training and validation loss')\n",
        "plt.xlabel(\"Epochs\")\n",
        "plt.ylabel(\"Loss\")\n",
        "plt.legend([\"Loss\", \"Validation Loss\"])\n",
        "plt.show()"
      ]
    },
    {
      "cell_type": "markdown",
      "id": "simplified-jacob",
      "metadata": {
        "id": "simplified-jacob"
      },
      "source": [
        "If you wish so, you can also check the training and validation accuracies of your model:"
      ]
    },
    {
      "cell_type": "code",
      "execution_count": null,
      "id": "controlling-climb",
      "metadata": {
        "tags": [
          "graded"
        ],
        "id": "controlling-climb",
        "outputId": "9f727316-6d6c-4977-bd48-c8f9f7ab19ce"
      },
      "outputs": [
        {
          "data": {
            "image/png": "[encoded data removed]",
            "text/plain": [
              "<Figure size 432x288 with 1 Axes>"
            ]
          },
          "metadata": {
            "needs_background": "light"
          },
          "output_type": "display_data"
        }
      ],
      "source": [
        "acc = history.history['accuracy']\n",
        "val_acc = history.history['val_accuracy']\n",
        "\n",
        "#------------------------------------------------\n",
        "# Plot training and validation accuracy per epoch\n",
        "#------------------------------------------------\n",
        "plt.plot(epochs, acc, 'r')\n",
        "plt.plot(epochs, val_acc, 'b')\n",
        "plt.title('Training and validation accuracy')\n",
        "plt.xlabel(\"Epochs\")\n",
        "plt.ylabel(\"Accuracy\")\n",
        "plt.legend([\"Accuracy\", \"Validation Accuracy\"])\n",
        "plt.show()"
      ]
    },
    {
      "cell_type": "markdown",
      "id": "attempted-needle",
      "metadata": {
        "id": "attempted-needle"
      },
      "source": [
        "A more rigorous way of setting the passing threshold of this assignment is to use the slope of your `val_loss` curve.\n",
        "\n",
        "**To pass this assignment the slope of your `val_loss` curve should be 0.0005 at maximum.**"
      ]
    },
    {
      "cell_type": "code",
      "execution_count": null,
      "id": "constant-cursor",
      "metadata": {
        "tags": [
          "graded"
        ],
        "id": "constant-cursor",
        "outputId": "9f114cfc-33f9-400d-fa26-010cab12eca8"
      },
      "outputs": [
        {
          "name": "stdout",
          "output_type": "stream",
          "text": [
            "The slope of your validation loss curve is -0.00086\n"
          ]
        }
      ],
      "source": [
        "# Test the slope of your val_loss curve\n",
        "slope, *_ = linregress(epochs, val_loss)\n",
        "print(f\"The slope of your validation loss curve is {slope:.5f}\")"
      ]
    },
    {
      "cell_type": "markdown",
      "id": "touched-sharing",
      "metadata": {
        "id": "touched-sharing"
      },
      "source": [
        "**If your model generated a validation loss curve that meets the criteria above, run the following cell and then submit your assignment for grading. Otherwise, try with a different architecture.**"
      ]
    },
    {
      "cell_type": "code",
      "execution_count": null,
      "id": "flexible-gravity",
      "metadata": {
        "tags": [
          "graded"
        ],
        "id": "flexible-gravity"
      },
      "outputs": [],
      "source": [
        "with open('history.pkl', 'wb') as f:\n",
        "    pickle.dump(history.history, f)"
      ]
    },
    {
      "cell_type": "markdown",
      "id": "junior-triumph",
      "metadata": {
        "id": "junior-triumph"
      },
      "source": [
        "**Congratulations on finishing this week's assignment!**\n",
        "\n",
        "You have successfully implemented a neural network capable of classifying sentiment in text data while doing a fairly good job of not overfitting! Nice job!\n",
        "\n",
        "**Keep it up!**"
      ]
    }
  ],
  "metadata": {
    "kernelspec": {
      "display_name": "Python 3",
      "language": "python",
      "name": "python3"
    },
    "language_info": {
      "codemirror_mode": {
        "name": "ipython",
        "version": 3
      },
      "file_extension": ".py",
      "mimetype": "text/x-python",
      "name": "python",
      "nbconvert_exporter": "python",
      "pygments_lexer": "ipython3",
      "version": "3.8.8"
    },
    "colab": {
      "provenance": [],
      "include_colab_link": true
    }
  },
  "nbformat": 4,
  "nbformat_minor": 5
}